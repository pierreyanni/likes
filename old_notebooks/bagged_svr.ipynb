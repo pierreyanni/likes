{
 "cells": [
  {
   "cell_type": "code",
   "execution_count": 1,
   "metadata": {},
   "outputs": [],
   "source": [
    "%matplotlib inline\n",
    "import random\n",
    "import pandas as pd\n",
    "import numpy as np\n",
    "import matplotlib.pyplot as plt\n",
    "import seaborn as sns\n",
    "\n",
    "pd.options.display.max_columns = None\n",
    "pd.options.display.max_rows = None\n",
    "\n",
    "# set seeds\n",
    "np.random.seed(1)\n",
    "random.seed(1)\n",
    "# sns.set(style = 'darkgrid')"
   ]
  },
  {
   "cell_type": "code",
   "execution_count": 2,
   "metadata": {},
   "outputs": [],
   "source": [
    "# Function to prepare data\n",
    "\n",
    "from colour.notation import HEX_to_RGB\n",
    "from colour import convert\n",
    "from sklearn.cluster import KMeans\n",
    "\n",
    "from sklearn.base import TransformerMixin\n",
    "\n",
    "def create_new_features(X):\n",
    "    # transform utc offset:\n",
    "    X['Sin_UTC'] = np.sin((11 * 3600 + X['UTC Offset']) / (24 * 3600) * 2 * np.pi)\n",
    "    X['Cos_UTC'] = np.cos((11 * 3600 + X['UTC Offset']) / (24 * 3600) * 2 * np.pi)\n",
    "    \n",
    "    # time since creation in days\n",
    "    duration = (pd.to_datetime('today') - \n",
    "                pd.to_datetime(X['Profile Creation Timestamp']).dt.tz_localize(None))\n",
    "    X['Duration'] = duration.apply(lambda x: x.days)\n",
    "    \n",
    "    # convert personal url into True/False (NaNs or unique)\n",
    "    X['Has Personal URL'] = X['Personal URL'].notna()\n",
    "    \n",
    "    # log(x + 1) of numerical features\n",
    "    for feature in ['Num of Followers', 'Num of People Following',\n",
    "                    'Num of Status Updates', 'Num of Direct Messages',\n",
    "                    'Avg Daily Profile Visit Duration in seconds',\n",
    "                    'Avg Daily Profile Clicks']:\n",
    "        X[f'log {feature}'] = np.log1p(X[feature])\n",
    "    \n",
    "    for col in ['Profile Text Color', 'Profile Page Color', 'Profile Theme Color']:\n",
    "        X[f'Lab {col}'] = X[col].apply(lambda x: convert(HEX_to_RGB(x), 'RGB', 'CIE Lab') if not pd.isnull(x) \n",
    "                else convert((1,1,1), 'RGB', 'CIE Lab'))\n",
    "\n",
    "    return X\n",
    "    \n",
    "def clean_features(X):\n",
    "    # merge categories names with and without cap letter\n",
    "    X['Location Public Visibility'] = X['Location Public Visibility'].str.lower()\n",
    "    X.loc[X['Profile Category'] == \" \", 'Profile Category'] = 'unknown'\n",
    "    return X\n",
    "\n",
    "def drop_features(X, l_features):\n",
    "    return X.drop(columns=l_features)\n",
    "    \n",
    "class RemoveCategories(TransformerMixin):\n",
    "    def __init__(self, min_obs=10, l_cols=[]):\n",
    "        self.min_obs = min_obs\n",
    "        self.l_cats = {}\n",
    "        self.l_cols = l_cols\n",
    "\n",
    "    def fit(self, X):\n",
    "        # assumes all columns of df_cat are strings\n",
    "        for col in self.l_cols:\n",
    "            val_counts = X[col].fillna('missing').value_counts()\n",
    "            self.l_cats[col] = val_counts[val_counts >= self.min_obs].index.tolist()\n",
    "        return self\n",
    "\n",
    "    def transform(self, X):\n",
    "        # assumes X is a DataFrame\n",
    "        for col in self.l_cols:\n",
    "            X.loc[~ X[col].isin(self.l_cats[col]), col] = 'other'        \n",
    "        return X\n",
    "\n",
    "class ClusterColors(TransformerMixin):\n",
    "    \"\"\" The data in X[ccols] should be CIE Lab color data\"\"\"\n",
    "    def __init__(self, ccols=['Lab Profile Text Color', 'Lab Profile Page Color', 'Lab Profile Theme Color'], *args, **kwargs):\n",
    "        self.clusterers = dict(zip(ccols, [KMeans(*args, **kwargs)]*len(ccols)))\n",
    "        self.columns = ccols\n",
    "\n",
    "    def set_params(self, **params):\n",
    "        for clusterer in self.clusterers.values():\n",
    "            clusterer.set_params(**params)\n",
    "        return self\n",
    "\n",
    "    def fit(self, X, y=None, **fit_params):        \n",
    "        for col in self.columns:\n",
    "            self.clusterers[col].fit(list(X[col].to_numpy()))\n",
    "        return self\n",
    "\n",
    "    def transform(self, X):\n",
    "        for col in self.columns:\n",
    "            X[f'Clustered {col}'] = self.clusterers[col].predict(list(X[col].to_numpy()))\n",
    "        return X\n"
   ]
  },
  {
   "cell_type": "code",
   "execution_count": 3,
   "metadata": {},
   "outputs": [],
   "source": [
    "# data cleaning and feature engineering\n",
    "\n",
    "from sklearn.pipeline import Pipeline\n",
    "from sklearn.preprocessing import FunctionTransformer\n",
    "\n",
    "l_cat_small = ['User Language', 'Location']\n",
    "l_drop = ['Id', 'User Name', 'Profile Image', 'Personal URL',\n",
    "          'Profile Creation Timestamp', 'Location', 'UTC Offset']\n",
    "l_drop_logs = ['Num of Followers', 'Num of People Following',\n",
    "               'Num of Status Updates', 'Num of Direct Messages',\n",
    "               'Avg Daily Profile Visit Duration in seconds', \n",
    "               'Avg Daily Profile Clicks']\n",
    "l_drop_hex = ['Profile Text Color', 'Profile Page Color',\n",
    "               'Profile Theme Color'\n",
    "               ]\n",
    "features_to_drop =dict(l_features = l_drop + l_drop_logs + l_drop_hex)\n",
    "\n",
    "pipe = Pipeline([('create new features',\n",
    "                  FunctionTransformer(create_new_features)),\n",
    "                 ('clean data', FunctionTransformer(clean_features)),\n",
    "                 ('cluster', ClusterColors(n_clusters=7, n_init=10, max_iter=300, tol=1e-4)),\n",
    "                 ('remove categories', RemoveCategories(min_obs=2, \n",
    "                                                        l_cols=l_cat_small)),\n",
    "                 ('drop variables', FunctionTransformer(drop_features,\n",
    "                                    kw_args=features_to_drop))\n",
    "                ])"
   ]
  },
  {
   "cell_type": "code",
   "execution_count": 6,
   "metadata": {},
   "outputs": [
    {
     "name": "stdout",
     "output_type": "stream",
     "text": [
      "['Profile Cover Image Status', 'Profile Verification Status', 'Is Profile View Size Customized?', 'Location Public Visibility', 'User Language', 'User Time Zone', 'Profile Category', 'Has Personal URL', 'Lab Profile Text Color', 'Lab Profile Page Color', 'Lab Profile Theme Color']\n"
     ]
    }
   ],
   "source": [
    "from sklearn.compose import ColumnTransformer\n",
    "from sklearn.impute import SimpleImputer\n",
    "from sklearn.preprocessing import OneHotEncoder\n",
    "from sklearn.preprocessing import StandardScaler\n",
    "\n",
    "# numerical features\n",
    "ccols = ['Lab Profile Text Color', 'Lab Profile Page Color',\n",
    "               'Lab Profile Theme Color',]\n",
    "num_features = list(X.select_dtypes(exclude=['object', 'bool']).columns)\n",
    "# num_features.append(pd.Index(ccols))\n",
    "numeric_transformer = Pipeline(steps=[\n",
    "    ('imputer', SimpleImputer(strategy='median')),\n",
    "    ('scaler', StandardScaler())\n",
    "    ])\n",
    "\n",
    "catcols = list(X.select_dtypes(include=['object', 'bool']).columns) #+ ['Clustered '+c for c in ccols]\n",
    "print(catcols)\n",
    "cat_features = list([col for col in catcols if col not in ccols])\n",
    "\n",
    "# categorical features\n",
    "categorical_transformer = Pipeline(steps=[\n",
    "    ('imputer', SimpleImputer(strategy='constant', fill_value='missing')),\n",
    "    ('onehot', OneHotEncoder(sparse=False))])\n",
    "\n",
    "# preprocessing\n",
    "preprocessor = ColumnTransformer(\n",
    "    transformers=[('num', numeric_transformer, num_features),\n",
    "                  ('cat', categorical_transformer, cat_features)])\n",
    "\n",
    "# X2 = pd.DataFrame(X_t, columns=get_ct_feature_names(preprocessor))"
   ]
  },
  {
   "cell_type": "code",
   "execution_count": 7,
   "metadata": {},
   "outputs": [
    {
     "name": "stderr",
     "output_type": "stream",
     "text": [
      "/apps/conda/pyanni/envs/kaggle_env/lib/python3.8/site-packages/colour/utilities/verbose.py:237: ColourUsageWarning: The \"Automatic Colour Conversion Graph\" is a beta feature, be mindful of this when using it. Please report any unexpected behaviour and do not hesitate to ask any questions should they arise.\n",
      "This warning can be disabled with the \"colour.utilities.suppress_warnings\" context manager as follows:\n",
      "with colour.utilities.suppress_warnings(colour_usage_warnings=True): \n",
      "    convert(*args, **kwargs)\n",
      "  warn(*args, **kwargs)\n"
     ]
    }
   ],
   "source": [
    "df = pd.read_csv('data/train.csv')\n",
    "y = np.log1p(df['Num of Profile Likes'].values)\n",
    "X = df.drop(columns='Num of Profile Likes')\n",
    "\n",
    "X = pipe.fit_transform(X)\n",
    "\n",
    "X = preprocessor.fit_transform(X)\n",
    "\n"
   ]
  },
  {
   "cell_type": "code",
   "execution_count": 13,
   "metadata": {},
   "outputs": [
    {
     "name": "stdout",
     "output_type": "stream",
     "text": [
      "1.75351258114 {'max_samples': 0.70000000000000007, 'max_features': 0.90000000000000002, 'bootstrap_features': False, 'bootstrap': True, 'base_estimator__epsilon': 0.086974900261778343, 'base_estimator__C': 6.5793322465756825}\n"
     ]
    }
   ],
   "source": [
    "from sklearn.neighbors import KNeighborsRegressor\n",
    "from sklearn.ensemble import BaggingRegressor\n",
    "from sklearn.model_selection import RandomizedSearchCV\n",
    "from sklearn.svm import SVR\n",
    "\n",
    "parameters = {\n",
    "    'base_estimator__C': np.logspace(-3,3,100),\n",
    "    'base_estimator__epsilon': np.logspace(-4,-1,100),\n",
    "    'max_features': np.linspace(0.1, 1.0, 10),\n",
    "    'max_samples': np.linspace(0.1, 1.0, 10),\n",
    "    'bootstrap_features': [True, False],\n",
    "    'bootstrap': [True, False],\n",
    "    }\n",
    "\n",
    "br = BaggingRegressor(base_estimator=SVR())\n",
    "br_cv = RandomizedSearchCV(br, parameters, scoring='neg_mean_squared_error',\n",
    "                           n_jobs=50, n_iter=100)\n",
    "br_cv.fit(X, y)\n",
    "print(np.sqrt(-br_cv.best_score_), br_cv.best_params_)"
   ]
  },
  {
   "cell_type": "code",
   "execution_count": 14,
   "metadata": {},
   "outputs": [
    {
     "ename": "SyntaxError",
     "evalue": "invalid syntax (<ipython-input-14-72d372246e14>, line 1)",
     "output_type": "error",
     "traceback": [
      "\u001b[0;36m  File \u001b[0;32m\"<ipython-input-14-72d372246e14>\"\u001b[0;36m, line \u001b[0;32m1\u001b[0m\n\u001b[0;31m    1.75313391282 {'max_samples': 0.40000000000000002, 'max_features': 0.90000000000000002, 'bootstrap_features': False, 'bootstrap': False, 'base_estimator__epsilon': 0.00057223676593502206, 'base_estimator__C': 5.72236765935022}\u001b[0m\n\u001b[0m                  ^\u001b[0m\n\u001b[0;31mSyntaxError\u001b[0m\u001b[0;31m:\u001b[0m invalid syntax\n"
     ]
    }
   ],
   "source": [
    "1.75313391282 {'max_samples': 0.40000000000000002, 'max_features': 0.90000000000000002,\n",
    "               'bootstrap_features': False, 'bootstrap': False,\n",
    "               'base_estimator__epsilon': 0.00057223676593502206,\n",
    "               'base_estimator__C': 5.72236765935022}"
   ]
  }
 ],
 "metadata": {
  "kernelspec": {
   "display_name": "kaggle_env",
   "language": "python",
   "name": "kaggle_env"
  },
  "language_info": {
   "codemirror_mode": {
    "name": "ipython",
    "version": 3
   },
   "file_extension": ".py",
   "mimetype": "text/x-python",
   "name": "python",
   "nbconvert_exporter": "python",
   "pygments_lexer": "ipython3",
   "version": "3.8.5"
  }
 },
 "nbformat": 4,
 "nbformat_minor": 2
}
